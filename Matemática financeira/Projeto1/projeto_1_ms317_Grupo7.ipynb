{
  "nbformat": 4,
  "nbformat_minor": 0,
  "metadata": {
    "colab": {
      "provenance": [],
      "collapsed_sections": []
    },
    "kernelspec": {
      "name": "python3",
      "display_name": "Python 3"
    },
    "language_info": {
      "name": "python"
    }
  },
  "cells": [
    {
      "cell_type": "code",
      "source": [
        "# -*- coding: utf-8 -*-\n",
        "\n",
        "import numpy as np\n",
        "import matplotlib.pyplot as plt\n",
        "import pandas as pd"
      ],
      "metadata": {
        "id": "beuvLsUR878b"
      },
      "execution_count": null,
      "outputs": []
    },
    {
      "cell_type": "code",
      "source": [
        "from google.colab import drive\n",
        "drive.mount('/content/drive')"
      ],
      "metadata": {
        "id": "WXKzV5rciBPJ",
        "colab": {
          "base_uri": "https://localhost:8080/"
        },
        "outputId": "4d7af75d-4774-4b65-cd02-68e4ec1b0a18"
      },
      "execution_count": null,
      "outputs": [
        {
          "output_type": "stream",
          "name": "stdout",
          "text": [
            "Mounted at /content/drive\n"
          ]
        }
      ]
    },
    {
      "cell_type": "code",
      "source": [
        "\n",
        "def compostos_per(a,n,i,C): #a: numer de aplicacoes, #n: periodo, #i:taxa, #C: valor total p aplicar\n",
        "    c = C/a #valor de cada aplicacao  \n",
        "    m = n/a #intervalo entre cada aplicacao   \n",
        "    lista=[] #lista com o taxas+1 dos periodos\n",
        "    for j in range(a):\n",
        "        mp=n-j*m#peridodo de cada aplicacao\n",
        "        if j ==0 :    \n",
        "            r = (1+i/100)**mp\n",
        "            lista.append(r)\n",
        "        else:\n",
        "            r = lista[j-1] + (1+i/100)**mp \n",
        "            lista.append(r)\n",
        "    M = c*(lista[-1]) #montante\n",
        "    return lista, M\n",
        "\n",
        "def inflacao_reg(c,g): # c= lista com taxas de inflacao, #g: grau da regressao\n",
        "    x = np.linspace(0,len(c),len(c))\n",
        "    regcoef = np.polyfit(x, c, g)\n",
        "    reg = np.poly1d(regcoef)\n",
        "    return reg, regcoef"
      ],
      "metadata": {
        "id": "VlyRCBE59BTE"
      },
      "execution_count": null,
      "outputs": []
    },
    {
      "cell_type": "code",
      "source": [
        "#%%inflacao\n",
        "\n",
        "X = np.array(pd.read_csv(r\"/content/drive/Shareddrives/Projeto 1 MS317 - 2022/ICPA_MesaMes.csv\", decimal=','))#importar os dados\n",
        "dados= X[:,1]\n",
        "\n",
        "dados_acumulados=[]\n",
        "\n",
        "for i in range(len(dados)):\n",
        "    if i ==0:\n",
        "        r=float(dados[i])\n",
        "        dados_acumulados.append(r)\n",
        "    else:\n",
        "        r=dados_acumulados[i-1]+float(dados[i])\n",
        "        dados_acumulados.append(r)\n",
        "\n",
        "#print(dados) %% Apenas para checar se os dados foram formatados corretamente\n",
        "\n",
        "x=np.linspace(0,len(X),len(X))\n",
        "plt.scatter(x,dados_acumulados)\n",
        "reg = inflacao_reg(list(dados_acumulados),1)[0] # regressao da inflacao\n",
        "plt.plot(x,reg(x),\"r\")\n",
        "plt.xlabel('meses'), plt.ylabel('taxa')\n",
        "#print(\"erro=\",np.linalg.norm(reg(x)-dados))\n",
        "coeficientes = inflacao_reg(list(dados_acumulados),1)[1]\n",
        "plt.savefig(\"/content/drive/Shareddrives/Projeto 1 MS317 - 2022/Inflação Acumulada & Regressão.png\", dpi=1200)\n",
        "plt.show()"
      ],
      "metadata": {
        "id": "pNVrb7rp-z9m",
        "colab": {
          "base_uri": "https://localhost:8080/",
          "height": 279
        },
        "outputId": "38bb68fb-8eb5-45bb-a791-86c276bc1ef8"
      },
      "execution_count": null,
      "outputs": [
        {
          "output_type": "display_data",
          "data": {
            "text/plain": [
              "<Figure size 432x288 with 1 Axes>"
            ],
            "image/png": "[encoded data removed]"
          },
          "metadata": {
            "needs_background": "light"
          }
        }
      ]
    },
    {
      "cell_type": "code",
      "execution_count": null,
      "metadata": {
        "colab": {
          "base_uri": "https://localhost:8080/",
          "height": 383
        },
        "id": "8Otf7Wl8mk44",
        "outputId": "1c264e88-b960-4806-dc5b-a0f3e25d7e0d"
      },
      "outputs": [
        {
          "output_type": "display_data",
          "data": {
            "text/plain": [
              "<Figure size 432x288 with 1 Axes>"
            ],
            "image/png": "[encoded data removed]"
          },
          "metadata": {
            "needs_background": "light"
          }
        },
        {
          "output_type": "stream",
          "name": "stdout",
          "text": [
            "Montante aparente: 30601.73040763805 \n",
            "Montante real: 28987.64123641347\n",
            "Multiplicador aparente: 12.750721003182521 \n",
            "Multiplicador real: 12.078183848505612\n",
            "Juros aparente: 6.256008359854337 % \n",
            "Juros real: 0.651532070880112 %\n"
          ]
        }
      ],
      "source": [
        "#%%dados do problema\n",
        "n = 12      # Periodo da aplicacao\n",
        "i = 0.93    # Taxa de Juros da aplicacao\n",
        "C = 28800   # Montante desejado\n",
        "a = 12      # Aportes periodicos\n",
        "\n",
        "t = np.linspace(133, 133+n, n)\n",
        "#%%\n",
        "aparente = compostos_per(a,n,i,C)[0]       # Define o multiplicador aparente (Considerando apenas o rendimento da aplicacao)\n",
        "inflacao = reg(t)                          # Define o valor da inflacao do mes t segundo a funcao obtida pela regressao linear\n",
        "inflacao -= inflacao[0]                    # Define o mes 134 (jan/2023) como referencia das inflacoes seguintes\n",
        "real = [ aparente[j]/(1 + inflacao[j]) for j in range(n)  ]   # Define o multiplicador real (Descontando a inflacao)\n",
        "\n",
        "#%%\n",
        "# plt.plot(t,reg(t)+1,label='inflação')\n",
        "plt.plot(t,aparente,label='Aparente')\n",
        "plt.scatter(t,aparente)\n",
        "plt.plot(t,real,label='Real')\n",
        "plt.scatter(t,real)\n",
        "plt.xlabel('Mês'), plt.ylabel('Multiplicador')\n",
        "plt.legend()\n",
        "plt.savefig(\"/content/drive/Shareddrives/Projeto 1 MS317 - 2022/Juros Real & Aparente.png\", dpi=1200)\n",
        "plt.show()\n",
        "#%%\n",
        "m_ap=(compostos_per(a,n,i,C)[0])[-1]\n",
        "m_R=real[-1]\n",
        "M_ap=compostos_per(a,n,i,C)[1]\n",
        "M_R=real[-1]*C/a\n",
        "i_ap=(M_ap/C-1)*100\n",
        "i_R=(M_R/C - 1)*100\n",
        "print(\"Montante aparente:\",M_ap,\"\\nMontante real:\",M_R)\n",
        "print(\"Multiplicador aparente:\",m_ap,\"\\nMultiplicador real:\",m_R) #em relacao a parcela periodica\n",
        "print(\"Juros aparente:\",i_ap,\"%\",\"\\nJuros real:\",i_R,\"%\") # em relacao ao total investido\n",
        "#%%\n"
      ]
    },
    {
      "cell_type": "code",
      "source": [
        "\n",
        "soma = 0.0\n",
        "for i in inflacao:\n",
        "  soma += i\n",
        "\n",
        "print(inflacao)\n",
        "print(\"\\nInflação acumulada projetada em dez/2023\", soma)\n",
        "\n",
        "#print(real)\n",
        "#print(aparente)\n",
        "#print(inflacao)\n",
        "#print(dados)\n",
        "#print(reg(1))\n",
        "#print(dados_acumulados)"
      ],
      "metadata": {
        "id": "x5YG4VypoO87",
        "colab": {
          "base_uri": "https://localhost:8080/"
        },
        "outputId": "1c9d6f08-29e0-4650-948a-628ac12d2b1c"
      },
      "execution_count": null,
      "outputs": [
        {
          "output_type": "stream",
          "name": "stdout",
          "text": [
            "[0.         0.005062   0.010124   0.01518599 0.02024799 0.02530999\n",
            " 0.03037199 0.03543399 0.04049598 0.04555798 0.05061998 0.05568198]\n",
            "\n",
            "Inflação acumulada projetada em dez/2023 0.3340918617131927\n"
          ]
        }
      ]
    },
    {
      "cell_type": "code",
      "source": [],
      "metadata": {
        "id": "p_7k9s8343mn"
      },
      "execution_count": null,
      "outputs": []
    }
  ]
}