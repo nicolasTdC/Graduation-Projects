{
 "cells": [
  {
   "cell_type": "code",
   "execution_count": null,
   "id": "25223ceb",
   "metadata": {},
   "outputs": [],
   "source": [
    "# MS960 - Introdução ao Aprendizado de Máquinas Profundo\n",
    "# Projeto 2 - Tradução Automática Usando Atenção"
   ]
  },
  {
   "cell_type": "code",
   "execution_count": null,
   "id": "d6bf4a8b",
   "metadata": {},
   "outputs": [],
   "source": [
    "# Importação dos dados:\n",
    "\n",
    "import pickle\n",
    "from implementacao import *\n",
    "\n",
    "dataset_path = \"files/dataset.pkl\"\n",
    "with open(dataset_path, 'rb') as file:\n",
    "  dataset = pickle.load(file)\n",
    "\n",
    "human_vocab_path = \"files/human_vocab.pkl\"\n",
    "with open(human_vocab_path, 'rb') as file:\n",
    "  human_vocab = pickle.load(file)\n",
    "\n",
    "machine_vocab_path = \"files/machine_vocab.pkl\"\n",
    "with open(machine_vocab_path, 'rb') as file:\n",
    "  machine_vocab = pickle.load(file)\n",
    "\n",
    "inv_machine_vocab_path = \"files/inv_machine_vocab.pkl\"\n",
    "with open(inv_machine_vocab_path, 'rb') as file:\n",
    "  inv_machine_vocab = pickle.load(file)"
   ]
  },
  {
   "cell_type": "code",
   "execution_count": null,
   "metadata": {},
   "outputs": [],
   "source": [
    "# Tratamento dos dados:\n",
    "\n",
    "Tx = 30 # Tamanho max da entrada (exemplo de entrada do dataset com 26 caracteres: \"wednesday february 11 1970\")\n",
    "Ty = 10 # Tamanho max de saída (4 caracteres para o ano + 2 para o mês + 2 para o dia + 2 para os separadores: \"YYYY-MM-DD\")\n",
    "\n",
    "Xoh, Yoh = converter_para_one_hot(Tx, Ty, dataset, machine_vocab, human_vocab) # Converte os caracteres para One Hot Vectors\n",
    "\n",
    "# Camadas compartilhadas por todos os passos temporais no mecanismo de atenção:\n",
    "\n",
    "n_pre = 32 # Número de unidades de pré-ativação\n",
    "n_pos = 64 # Número de unidades de pós-ativação\n",
    "\n",
    "ferramentas_compartilhadas = ferramentas_atencao(Tx, n_pos, machine_vocab)\n",
    "\n",
    "# Modelo:\n",
    "\n",
    "modelo = modelo(Tx, Ty, n_pre, n_pos, len(human_vocab), len(machine_vocab),\n",
    "                ferramentas_compartilhadas)\n",
    "\n",
    "modelo.compile(optimizer='Adam',\n",
    "               loss='categorical_crossentropy',\n",
    "               metrics=['accuracy'])"
   ]
  },
  {
   "cell_type": "code",
   "execution_count": null,
   "metadata": {},
   "outputs": [],
   "source": [
    "# Treinamento do modelo:\n",
    "\n",
    "epocas = 50 # Número de épocas\n",
    "\n",
    "m = round(len(dataset) * 0.99) # Número de exemplos para este treino\n",
    "\n",
    "treinamento(Xoh, Yoh, modelo, m, n_pos, n_pre, epocas) # Salva os pesos deste treino"
   ]
  },
  {
   "cell_type": "code",
   "execution_count": null,
   "metadata": {},
   "outputs": [],
   "source": [
    "# Testes do modelo:\n",
    "\n",
    "modelo.load_weights('models/model_50-epocas_32-preativacoes_64-posativacoes.h5') # Carregar modelo treinado para ser testado\n",
    "\n",
    "m = round(len(dataset) * 0.99) # Novamente a variável m, caso a célula de treinamento não tenha sido executada\n",
    "\n",
    "m2 = len(dataset) - m # Número de exemplos para teste\n",
    "\n",
    "dataset_teste = dataset[len(dataset) - m2:]\n",
    "\n",
    "testes(dataset_teste, n_pos, Tx, human_vocab, inv_machine_vocab, modelo)"
   ]
  },
  {
   "cell_type": "code",
   "execution_count": null,
   "metadata": {},
   "outputs": [],
   "source": [
    "# Mapa de atenção:\n",
    "\n",
    "exemplo = '25.12.2990'\n",
    "\n",
    "mapa = plot_attention_map(modelo,\n",
    "                          human_vocab,\n",
    "                          inv_machine_vocab,\n",
    "                          exemplo,\n",
    "                          n_pos=n_pos)"
   ]
  }
 ],
 "metadata": {
  "kernelspec": {
   "display_name": "Python 3 (ipykernel)",
   "language": "python",
   "name": "python3"
  },
  "language_info": {
   "codemirror_mode": {
    "name": "ipython",
    "version": 3
   },
   "file_extension": ".py",
   "mimetype": "text/x-python",
   "name": "python",
   "nbconvert_exporter": "python",
   "pygments_lexer": "ipython3",
   "version": "3.10.2"
  }
 },
 "nbformat": 4,
 "nbformat_minor": 5
}
